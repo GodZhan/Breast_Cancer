{
  "nbformat": 4,
  "nbformat_minor": 0,
  "metadata": {
    "colab": {
      "name": "HomeWork.ipynb",
      "provenance": [],
      "collapsed_sections": [
        "ZrWzwBp4jtn8"
      ]
    },
    "kernelspec": {
      "name": "python3",
      "display_name": "Python 3"
    }
  },
  "cells": [
    {
      "cell_type": "markdown",
      "metadata": {
        "id": "ZrWzwBp4jtn8"
      },
      "source": [
        "# **AI期中考題**\n",
        "# (A)\t 下載 csv檔案到電腦並解說資料的特性與分的類別\n",
        "\n",
        "# 特徵 :\n",
        "clump_thickness、uniformity_of_cell_size、uniformity_of_cell_shape、marginal_adhesion、single_epithelial_cell_size、bare_nuclei、bland_chromatin、normal_nucleoli、mitosis\n",
        "# 類別 : \n",
        "2代表良性 、 4代表惡性\n"
      ]
    },
    {
      "cell_type": "markdown",
      "metadata": {
        "id": "jckabIj2stCd"
      },
      "source": [
        "# (B)\t請在 google colab 新開一個記事本, 並參考執行網站之記事本執行開啟新記事本後, 請用print印出  班級, 姓名, 學號, 日期\n",
        "\n",
        "\n"
      ]
    },
    {
      "cell_type": "code",
      "metadata": {
        "id": "JRretfh_GSZQ"
      },
      "source": [
        "import datetime\n",
        "name = \"\"\n",
        "S_class = \"\"\n",
        "number = \"\"\n",
        "today = datetime.datetime.today()\n",
        "\n",
        "#print(\"名字:%s,班級:%s,學號:%s,今天是:%s/%s\"%(name,S_class,number,today.month,today.day))"
      ],
      "execution_count": 1,
      "outputs": []
    },
    {
      "cell_type": "markdown",
      "metadata": {
        "id": "73HhUBUwuL2t"
      },
      "source": [
        "# (C)\t請執行上傳檔案程式碼, 將下載檔案上傳到你的雲端技術本環境"
      ]
    },
    {
      "cell_type": "code",
      "metadata": {
        "colab": {
          "base_uri": "https://localhost:8080/",
          "height": 35
        },
        "id": "Omp_LUyruUF0",
        "outputId": "af3fc447-ee4e-4ee6-d7c4-09b3be1991ba"
      },
      "source": [
        "'''\n",
        "from google.colab import files\n",
        "uploaded = files.upload()\n",
        "'''"
      ],
      "execution_count": 2,
      "outputs": [
        {
          "output_type": "execute_result",
          "data": {
            "application/vnd.google.colaboratory.intrinsic+json": {
              "type": "string"
            },
            "text/plain": [
              "'\\nfrom google.colab import files\\nuploaded = files.upload()\\n'"
            ]
          },
          "metadata": {
            "tags": []
          },
          "execution_count": 2
        }
      ]
    },
    {
      "cell_type": "markdown",
      "metadata": {
        "id": "aIJKi7yEugxb"
      },
      "source": [
        ""
      ]
    },
    {
      "cell_type": "markdown",
      "metadata": {
        "id": "oUY45BQ4yrmA"
      },
      "source": [
        "# Import module\n",
        " \n",
        "\n"
      ]
    },
    {
      "cell_type": "code",
      "metadata": {
        "id": "ouAU28d-uYry"
      },
      "source": [
        "import os\n",
        "import matplotlib.pyplot as plt\n",
        "import tensorflow as tf\n",
        "import pandas as pd\n",
        "from __future__ import absolute_import,division,print_function,unicode_literals"
      ],
      "execution_count": 3,
      "outputs": []
    },
    {
      "cell_type": "markdown",
      "metadata": {
        "id": "9HT3l8Xcy7Oo"
      },
      "source": [
        "# 確認版本"
      ]
    },
    {
      "cell_type": "code",
      "metadata": {
        "colab": {
          "base_uri": "https://localhost:8080/"
        },
        "id": "ER0CblqKy6qI",
        "outputId": "8333a582-0ac4-47db-bd27-b6de47e2e6f1"
      },
      "source": [
        "print(\"TensorFlow version: {}\".format(tf.__version__))\n",
        "print(\"Eager execution: {}\".format(tf.executing_eagerly()))"
      ],
      "execution_count": 4,
      "outputs": [
        {
          "output_type": "stream",
          "text": [
            "TensorFlow version: 2.4.0\n",
            "Eager execution: True\n"
          ],
          "name": "stdout"
        }
      ]
    },
    {
      "cell_type": "markdown",
      "metadata": {
        "id": "FqDZPsbuz40I"
      },
      "source": [
        "# Import dataset"
      ]
    },
    {
      "cell_type": "code",
      "metadata": {
        "colab": {
          "base_uri": "https://localhost:8080/"
        },
        "id": "DzVURVu2z_7Y",
        "outputId": "f43c9fbd-f727-4a34-a17d-cb99d3a58fab"
      },
      "source": [
        "'''\n",
        "train_dataset_url = \"/content/breast_cancer_dataset.csv\"\n",
        "train_dataset_fp = tf.keras.utils.get_file(fname=os.path.basename(train_dataset_url),origin=train_dataset_url)\n",
        "'''\n",
        "\n",
        "train_dataset_fp = '/content/drive/MyDrive/breast_cancer_dataset.csv'\n",
        "print(\"Local copy of the dataset file: {}\".format(train_dataset_fp))"
      ],
      "execution_count": 5,
      "outputs": [
        {
          "output_type": "stream",
          "text": [
            "Local copy of the dataset file: /content/drive/MyDrive/breast_cancer_dataset.csv\n"
          ],
          "name": "stdout"
        }
      ]
    },
    {
      "cell_type": "markdown",
      "metadata": {
        "id": "y8iomEzs14bQ"
      },
      "source": [
        "# Check data"
      ]
    },
    {
      "cell_type": "code",
      "metadata": {
        "colab": {
          "base_uri": "https://localhost:8080/"
        },
        "id": "0PHgJNXF1gOW",
        "outputId": "0b361636-e9e6-44e4-c972-d11050afc196"
      },
      "source": [
        "!head -n5 {train_dataset_fp}  #檢查前五個"
      ],
      "execution_count": 6,
      "outputs": [
        {
          "output_type": "stream",
          "text": [
            "clump_thickness,uniformity_of_cell_size,uniformity_of_cell_shape,marginal_adhesion,single_epithelial_cell_size,bare_nuclei,bland_chromatin,normal_nucleoli,mitosis,class\r\n",
            "5,1,1,1,2,1,3,1,1,0\r\n",
            "5,4,4,5,7,10,3,2,1,0\r\n",
            "3,1,1,1,2,2,3,1,1,0\r\n",
            "6,8,8,1,3,4,3,7,1,0\r\n"
          ],
          "name": "stdout"
        }
      ]
    },
    {
      "cell_type": "code",
      "metadata": {
        "colab": {
          "base_uri": "https://localhost:8080/"
        },
        "id": "dbOJdeRO27Wp",
        "outputId": "fcb0cc9b-6503-4f69-fa8c-9bb4a322f1f5"
      },
      "source": [
        "column_names = ['clump_thickness', 'uniformity_of_cell_size', 'uniformity_of_cell_shape', 'marginal_adhesion', 'single_epithelial_cell_size','bare_nuclei','bland_chromatin','normal_nucleoli','mitosis','class']\n",
        "#取得特徵和標籤名\n",
        "feature_names = column_names[:-1]\n",
        "label_name = column_names[-1]\n",
        "\n",
        "print(\"Features: {}\".format(feature_names))\n",
        "print(\"Label: {}\".format(label_name))\n"
      ],
      "execution_count": 7,
      "outputs": [
        {
          "output_type": "stream",
          "text": [
            "Features: ['clump_thickness', 'uniformity_of_cell_size', 'uniformity_of_cell_shape', 'marginal_adhesion', 'single_epithelial_cell_size', 'bare_nuclei', 'bland_chromatin', 'normal_nucleoli', 'mitosis']\n",
            "Label: class\n"
          ],
          "name": "stdout"
        }
      ]
    },
    {
      "cell_type": "code",
      "metadata": {
        "id": "i1mLvl6l5DWh"
      },
      "source": [
        "class_names = ['2', '4']  #2為良性，4為惡性"
      ],
      "execution_count": 8,
      "outputs": []
    },
    {
      "cell_type": "code",
      "metadata": {
        "colab": {
          "base_uri": "https://localhost:8080/"
        },
        "id": "VQRxR9lXlHQz",
        "outputId": "859eaa3f-2e4a-4282-db8a-91b2563a6591"
      },
      "source": [
        "len(set(column_names))"
      ],
      "execution_count": 9,
      "outputs": [
        {
          "output_type": "execute_result",
          "data": {
            "text/plain": [
              "10"
            ]
          },
          "metadata": {
            "tags": []
          },
          "execution_count": 9
        }
      ]
    },
    {
      "cell_type": "markdown",
      "metadata": {
        "id": "L-kIqrAoKhWu"
      },
      "source": [
        "# 建立TensorFlow.data.Dataset"
      ]
    },
    {
      "cell_type": "code",
      "metadata": {
        "id": "AfHtKuJkKgAe"
      },
      "source": [
        "batch_size=32\n",
        "train_dataset = tf.data.experimental.make_csv_dataset(\n",
        "    train_dataset_fp,\n",
        "    batch_size,\n",
        "    label_name=label_name,\n",
        "    column_names=column_names,\n",
        "    #na_value=\"?\",\n",
        "    num_epochs=1\n",
        ")"
      ],
      "execution_count": 10,
      "outputs": []
    },
    {
      "cell_type": "code",
      "metadata": {
        "colab": {
          "base_uri": "https://localhost:8080/"
        },
        "id": "fwng8497O7PK",
        "outputId": "2616e585-afff-4178-898a-de6a8563d1d9"
      },
      "source": [
        "features, labels = next(iter(train_dataset))\n",
        "print(features)"
      ],
      "execution_count": 11,
      "outputs": [
        {
          "output_type": "stream",
          "text": [
            "OrderedDict([('clump_thickness', <tf.Tensor: shape=(32,), dtype=int32, numpy=\n",
            "array([10,  7,  6,  6,  1,  5,  8,  3,  2,  4,  1,  1,  5,  1,  1, 10,  1,\n",
            "        3,  3,  5, 10,  1,  3,  3,  3,  3, 10,  1,  2,  5,  1,  1],\n",
            "      dtype=int32)>), ('uniformity_of_cell_size', <tf.Tensor: shape=(32,), dtype=int32, numpy=\n",
            "array([ 4,  9,  1, 10,  1,  1, 10, 10,  1,  2,  1,  1,  1,  1,  1,  4,  1,\n",
            "        1,  1,  2, 10,  1,  3,  1,  1,  2, 10,  1,  3,  1,  1,  1],\n",
            "      dtype=int32)>), ('uniformity_of_cell_shape', <tf.Tensor: shape=(32,), dtype=int32, numpy=\n",
            "array([ 3,  4,  3, 10,  1,  1, 10,  3,  1,  1,  1,  1,  1,  3,  1,  4,  1,\n",
            "        1,  1,  2, 10,  1,  5,  1,  1,  1, 10,  1,  1,  1,  1,  1],\n",
            "      dtype=int32)>), ('marginal_adhesion', <tf.Tensor: shape=(32,), dtype=int32, numpy=\n",
            "array([10, 10,  1,  2,  1,  1,  8, 10,  2,  1,  1,  1,  1,  1,  1, 10,  1,\n",
            "        1,  1,  2, 10,  1,  2,  1,  3,  1,  1,  1,  1,  1,  1,  1],\n",
            "      dtype=int32)>), ('single_epithelial_cell_size', <tf.Tensor: shape=(32,), dtype=int32, numpy=\n",
            "array([ 4, 10,  4,  8,  1,  2,  6,  6,  2,  2,  1,  2,  2,  1,  2,  2,  2,\n",
            "        2,  2,  2,  6,  2,  3,  2,  1,  2,  6,  2,  3,  2,  2,  1],\n",
            "      dtype=int32)>), ('bare_nuclei', <tf.Tensor: shape=(32,), dtype=int32, numpy=\n",
            "array([10,  3,  5, 10,  1,  1,  9, 10,  1,  1,  1,  1,  1,  1,  1, 10,  1,\n",
            "        5,  1,  1, 10,  1, 10,  5,  1,  2,  1,  1,  1,  1,  1,  1],\n",
            "      dtype=int32)>), ('bland_chromatin', <tf.Tensor: shape=(32,), dtype=int32, numpy=\n",
            "array([10,  5,  5,  7,  1,  2,  3,  5,  1,  2,  2,  1,  2,  2,  3,  5,  1,\n",
            "        5,  2,  2,  8,  2,  7,  1,  3,  3,  2,  2,  1,  3,  1,  3],\n",
            "      dtype=int32)>), ('normal_nucleoli', <tf.Tensor: shape=(32,), dtype=int32, numpy=\n",
            "array([ 1,  3, 10,  3,  1,  1, 10,  1,  1,  1,  1,  1,  2,  1,  1,  3,  1,\n",
            "        1,  2,  2,  1,  1,  1,  1,  1,  1,  8,  1,  1,  1,  1,  1],\n",
            "      dtype=int32)>), ('mitosis', <tf.Tensor: shape=(32,), dtype=int32, numpy=\n",
            "array([ 1,  3,  1,  3,  1,  1, 10,  4,  1,  1,  1,  1,  1,  1,  1,  3,  1,\n",
            "        1,  1,  1,  5,  1,  1,  1,  1,  1,  1,  2,  1,  1,  1,  1],\n",
            "      dtype=int32)>)])\n"
          ],
          "name": "stdout"
        }
      ]
    },
    {
      "cell_type": "markdown",
      "metadata": {
        "id": "bS-3bMX7Stp_"
      },
      "source": [
        "**可視化圖**"
      ]
    },
    {
      "cell_type": "code",
      "metadata": {
        "colab": {
          "base_uri": "https://localhost:8080/",
          "height": 280
        },
        "id": "5mEHphMhSyBn",
        "outputId": "3de36d67-fb68-46f9-b913-2de9569661fa"
      },
      "source": [
        "plt.scatter(features['clump_thickness'],\n",
        "            features['uniformity_of_cell_size'],\n",
        "            c=labels,                  #\n",
        "            cmap='viridis')\n",
        "\n",
        "plt.xlabel(\"clump_thickness\")\n",
        "plt.ylabel(\"uniformity_of_cell_size\")\n",
        "plt.show()"
      ],
      "execution_count": 12,
      "outputs": [
        {
          "output_type": "display_data",
          "data": {
            "image/png": "[encoded data removed]",
            "text/plain": [
              "<Figure size 432x288 with 1 Axes>"
            ]
          },
          "metadata": {
            "tags": [],
            "needs_background": "light"
          }
        }
      ]
    },
    {
      "cell_type": "markdown",
      "metadata": {
        "id": "AkGqTe2dT31n"
      },
      "source": [
        "**使用tf.pack()來將features重構爲(batch_size, num_features)形狀。**"
      ]
    },
    {
      "cell_type": "code",
      "metadata": {
        "id": "1sbHbXAYT3NY"
      },
      "source": [
        "def pack_features_vector(features, labels):\n",
        "    features = tf.stack(list(features.values()), axis=1)  #axis = 1 將矩陣第一項組合再一起Print在同一個矩陣\n",
        "    return features, labels"
      ],
      "execution_count": 13,
      "outputs": []
    },
    {
      "cell_type": "code",
      "metadata": {
        "colab": {
          "base_uri": "https://localhost:8080/"
        },
        "id": "CXXjcfRrUGP3",
        "outputId": "fd0890fa-dd8c-4ede-a802-2222b59ef1ec"
      },
      "source": [
        "# 使用tf.data.Dataset.map將重構函數運用到每條數據中。\n",
        "train_dataset = train_dataset.map(pack_features_vector)\n",
        "# 查看前5個數據\n",
        "features, labels = next(iter(train_dataset))\n",
        "print(features[:5])"
      ],
      "execution_count": 14,
      "outputs": [
        {
          "output_type": "stream",
          "text": [
            "tf.Tensor(\n",
            "[[      1       1       1       1       1 -100000       2       1       1]\n",
            " [      8       4      10       5       4       4       7      10       1]\n",
            " [      1       1       1       1       2       1       3       1       1]\n",
            " [      2       1       1       1       2       1       3       1       1]\n",
            " [      5       3       3       3       2       3       4       4       1]], shape=(5, 9), dtype=int32)\n"
          ],
          "name": "stdout"
        }
      ]
    },
    {
      "cell_type": "markdown",
      "metadata": {
        "id": "H4q9E2F4YBlu"
      },
      "source": [
        "# 使用Keras創建模型"
      ]
    },
    {
      "cell_type": "code",
      "metadata": {
        "id": "U-6XqQZoYIgF"
      },
      "source": [
        "model = tf.keras.Sequential([\n",
        "    tf.keras.layers.Dense(25, activation='relu', input_shape=(9,)),  #input_shape()裡的數值為特徵總數不包含類別\n",
        "    tf.keras.layers.Dense(25, activation='relu'),           # output neurons = 10 如果output neurons數值小於feature，則會影響歸一化時的數值\n",
        "    tf.keras.layers.Dense(2)\n",
        "])\n",
        "\n"
      ],
      "execution_count": 15,
      "outputs": []
    },
    {
      "cell_type": "markdown",
      "metadata": {
        "id": "5x3_w_9mZp9e"
      },
      "source": [
        "# 測試Model結構"
      ]
    },
    {
      "cell_type": "code",
      "metadata": {
        "colab": {
          "base_uri": "https://localhost:8080/"
        },
        "id": "CsAXqe2tZvEh",
        "outputId": "3614806e-0fc5-4e04-a974-da66b299e4b6"
      },
      "source": [
        "prediction = model(features)\n",
        "prediction[:5]"
      ],
      "execution_count": 16,
      "outputs": [
        {
          "output_type": "execute_result",
          "data": {
            "text/plain": [
              "<tf.Tensor: shape=(5, 2), dtype=float32, numpy=\n",
              "array([[ 1.4473004e+04,  1.7928326e+04],\n",
              "       [ 4.7735558e+00,  5.9345126e-02],\n",
              "       [ 5.8352149e-01, -2.4157658e-01],\n",
              "       [ 7.1282744e-01, -1.0998332e-01],\n",
              "       [ 2.0455670e+00, -3.0808997e-01]], dtype=float32)>"
            ]
          },
          "metadata": {
            "tags": []
          },
          "execution_count": 16
        }
      ]
    },
    {
      "cell_type": "markdown",
      "metadata": {
        "id": "kVOQE38AeRzR"
      },
      "source": [
        "# 歸一化\n",
        "softmax()會將所有的數值範圍落在0~1"
      ]
    },
    {
      "cell_type": "code",
      "metadata": {
        "colab": {
          "base_uri": "https://localhost:8080/"
        },
        "id": "coRyrrlMbWwt",
        "outputId": "21482fb1-e9e1-439a-c9fa-cec8345d959d"
      },
      "source": [
        "tf.nn.softmax(prediction)[:5]  "
      ],
      "execution_count": 17,
      "outputs": [
        {
          "output_type": "execute_result",
          "data": {
            "text/plain": [
              "<tf.Tensor: shape=(5, 2), dtype=float32, numpy=\n",
              "array([[0.        , 1.        ],\n",
              "       [0.99111277, 0.00888725],\n",
              "       [0.69531745, 0.30468258],\n",
              "       [0.6948327 , 0.30516735],\n",
              "       [0.91322446, 0.08677553]], dtype=float32)>"
            ]
          },
          "metadata": {
            "tags": []
          },
          "execution_count": 17
        }
      ]
    },
    {
      "cell_type": "markdown",
      "metadata": {
        "id": "857oM-sReP6R"
      },
      "source": [
        "使用Tf.argmax獲得概率最大的類標籤"
      ]
    },
    {
      "cell_type": "code",
      "metadata": {
        "colab": {
          "base_uri": "https://localhost:8080/"
        },
        "id": "crHLoNWyf2Bh",
        "outputId": "9fbc8704-b612-41ad-c9fa-87072ae600e8"
      },
      "source": [
        "print('prediction:', tf.argmax(prediction, axis=1))\n",
        "print('label:', labels)"
      ],
      "execution_count": 18,
      "outputs": [
        {
          "output_type": "stream",
          "text": [
            "prediction: tf.Tensor([1 0 0 0 0 0 0 0 0 0 0 0 0 0 0 0 0 0 0 0 0 0 0 0 0 0 0 0 0 0 0 0], shape=(32,), dtype=int64)\n",
            "label: tf.Tensor([0 1 0 0 1 1 1 0 1 0 0 1 0 0 1 0 1 1 0 1 0 1 0 1 0 1 1 1 1 1 0 1], shape=(32,), dtype=int32)\n"
          ],
          "name": "stdout"
        }
      ]
    },
    {
      "cell_type": "markdown",
      "metadata": {
        "id": "a16GbKrQgr8z"
      },
      "source": [
        "# **Model Training**\n",
        "Loss function"
      ]
    },
    {
      "cell_type": "code",
      "metadata": {
        "id": "ZBQu_WUcg4Nb"
      },
      "source": [
        "loss_object = tf.keras.losses.SparseCategoricalCrossentropy(from_logits=True)\n"
      ],
      "execution_count": 19,
      "outputs": []
    },
    {
      "cell_type": "code",
      "metadata": {
        "id": "67cLesxNhKEG",
        "colab": {
          "base_uri": "https://localhost:8080/"
        },
        "outputId": "5ffe64dc-fc93-40f1-fa39-f8be25a98136"
      },
      "source": [
        "def loss(model, x, y):\n",
        "  # training=training is needed only if there are layers with different\n",
        "  # behavior during training versus inference (e.g. Dropout).\n",
        "  y_ = model(x)\n",
        "\n",
        "  return loss_object(y_true=y, y_pred=y_)\n",
        "\n",
        "\n",
        "l = loss(model, features, labels)\n",
        "print(\"Loss test: {}\".format(l))"
      ],
      "execution_count": 20,
      "outputs": [
        {
          "output_type": "stream",
          "text": [
            "Loss test: 110.4603500366211\n"
          ],
          "name": "stdout"
        }
      ]
    },
    {
      "cell_type": "markdown",
      "metadata": {
        "id": "za36iwxxy36T"
      },
      "source": [
        "# 使用tf.GradientTape計算loss對所有變量的梯度。"
      ]
    },
    {
      "cell_type": "code",
      "metadata": {
        "id": "3O3lkXINzC7O"
      },
      "source": [
        "def grad(model, inputs, targets):\n",
        "    with tf.GradientTape() as tape:\n",
        "        loss_value = loss(model, inputs, targets)\n",
        "    return loss_value, tape.gradient(loss_value, model.trainable_variables)"
      ],
      "execution_count": 21,
      "outputs": []
    },
    {
      "cell_type": "markdown",
      "metadata": {
        "id": "3n6TQnOePLOZ"
      },
      "source": [
        "# 創建優化器"
      ]
    },
    {
      "cell_type": "code",
      "metadata": {
        "id": "ALZkwFvGN6DH"
      },
      "source": [
        "optimizer = tf.keras.optimizers.Adam(learning_rate=0.01)"
      ],
      "execution_count": 22,
      "outputs": []
    },
    {
      "cell_type": "markdown",
      "metadata": {
        "id": "aDA0Sw0MCR_g"
      },
      "source": [
        "使用優化器"
      ]
    },
    {
      "cell_type": "code",
      "metadata": {
        "colab": {
          "base_uri": "https://localhost:8080/"
        },
        "id": "ABj-cTanCVsh",
        "outputId": "c4210b2a-8fd5-4b8a-d487-d47845408d52"
      },
      "source": [
        "loss_value, grads = grad(model, features, labels )\n",
        "print('步數：{}, 初始loss值：{}'.format(optimizer.iterations.numpy(),loss_value.numpy()))\n",
        "optimizer.apply_gradients(zip(grads, model.trainable_variables))\n",
        "print('步數：{}, loss值：{}'.format(optimizer.iterations.numpy(),loss(model,features, labels).numpy()))"
      ],
      "execution_count": 23,
      "outputs": [
        {
          "output_type": "stream",
          "text": [
            "步數：0, 初始loss值：110.4603500366211\n",
            "步數：1, loss值：1.6278109550476074\n"
          ],
          "name": "stdout"
        }
      ]
    },
    {
      "cell_type": "markdown",
      "metadata": {
        "id": "apPrEGUlGsa5"
      },
      "source": [
        "Training loop"
      ]
    },
    {
      "cell_type": "code",
      "metadata": {
        "colab": {
          "base_uri": "https://localhost:8080/"
        },
        "id": "Q6hSbjJ-Gu9Y",
        "outputId": "74d9eeef-97c8-4b50-bacf-a8f98c040e6b"
      },
      "source": [
        "# 保存loss和acc\n",
        "train_loss_results=[]\n",
        "train_accuracy_results=[]\n",
        "\n",
        "num_epochs =201\n",
        "for epoch in range(num_epochs):\n",
        "    # 用於記錄loss和acc的類\n",
        "    epoch_loss_avg = tf.keras.metrics.Mean()\n",
        "    epoch_accuracy = tf.keras.metrics.SparseCategoricalAccuracy()\n",
        "    \n",
        "    # 訓練循環\n",
        "    for x, y in train_dataset:\n",
        "        # 獲取loss和梯度\n",
        "        loss_value, grads = grad(model, x, y)\n",
        "        # 梯度優化\n",
        "        optimizer.apply_gradients(zip(grads, model.trainable_variables))\n",
        "        \n",
        "        # 記錄loss均值\n",
        "        epoch_loss_avg(loss_value)\n",
        "        # 記錄準確率\n",
        "        epoch_accuracy(y, model(x))\n",
        "\n",
        "    # 保存每個epoch的loss和acc\n",
        "    train_loss_results.append(epoch_loss_avg.result())\n",
        "    train_accuracy_results.append(epoch_accuracy.result())\n",
        "\n",
        "    if epoch % 50 == 0:\n",
        "        print(\"Epoch {:03d}: Loss: {:.3f}, Accuracy: {:.3%}\".format(epoch,epoch_loss_avg.result(),epoch_accuracy.result()))\n"
      ],
      "execution_count": 24,
      "outputs": [
        {
          "output_type": "stream",
          "text": [
            "Epoch 000: Loss: 270.498, Accuracy: 61.863%\n",
            "Epoch 050: Loss: 0.062, Accuracy: 97.891%\n",
            "Epoch 100: Loss: 0.046, Accuracy: 98.418%\n",
            "Epoch 150: Loss: 0.047, Accuracy: 98.594%\n",
            "Epoch 200: Loss: 0.030, Accuracy: 99.473%\n"
          ],
          "name": "stdout"
        }
      ]
    },
    {
      "cell_type": "markdown",
      "metadata": {
        "id": "Jlt78TzBH8zb"
      },
      "source": [
        "訓練過程可視化"
      ]
    },
    {
      "cell_type": "code",
      "metadata": {
        "colab": {
          "base_uri": "https://localhost:8080/",
          "height": 558
        },
        "id": "r37380qYIAsW",
        "outputId": "2b7aa78e-eaf4-4ec8-f7e7-56f5286bb286"
      },
      "source": [
        "fig, axes = plt.subplots(2, sharex=True, figsize=(12, 8))\n",
        "fig.suptitle('Training Metrics')\n",
        "\n",
        "axes[0].set_ylabel(\"Loss\", fontsize=14)\n",
        "axes[0].plot(train_loss_results)\n",
        "\n",
        "axes[1].set_ylabel(\"Accuracy\", fontsize=14)\n",
        "axes[1].set_xlabel(\"Epoch\", fontsize=14)\n",
        "axes[1].plot(train_accuracy_results)\n",
        "plt.show()"
      ],
      "execution_count": 25,
      "outputs": [
        {
          "output_type": "display_data",
          "data": {
            "image/png": "[encoded data removed]",
            "text/plain": [
              "<Figure size 864x576 with 2 Axes>"
            ]
          },
          "metadata": {
            "tags": [],
            "needs_background": "light"
          }
        }
      ]
    },
    {
      "cell_type": "markdown",
      "metadata": {
        "id": "h-kHcBHsIWl9"
      },
      "source": [
        "# 使用訓練好的模型進行預測"
      ]
    },
    {
      "cell_type": "code",
      "metadata": {
        "colab": {
          "base_uri": "https://localhost:8080/"
        },
        "id": "8gTQyM8qIdZo",
        "outputId": "8fd3c093-e8b5-44a9-943b-f8f152fee76e"
      },
      "source": [
        "predict_dataset = tf.convert_to_tensor([\n",
        "    [5,1,1,1,2,1,3,1,1],\n",
        "    [5,4,4,5,7,10,3,2,1],\n",
        "    [3,1,1,1,2,2,3,1,1]\n",
        "])\n",
        "\n",
        "predictions = model(predict_dataset)\n",
        "\n",
        "for i, logits in enumerate(predictions):\n",
        "  class_idx = tf.argmax(logits).numpy()\n",
        "  p = tf.nn.softmax(logits)[class_idx]\n",
        "  name = class_names[class_idx]\n",
        "  print(\"Example {} prediction: {} ({:4.1f}%)\".format(i, name, 100*p))"
      ],
      "execution_count": 26,
      "outputs": [
        {
          "output_type": "stream",
          "text": [
            "Example 0 prediction: 2 (100.0%)\n",
            "Example 1 prediction: 2 (98.1%)\n",
            "Example 2 prediction: 2 (100.0%)\n"
          ],
          "name": "stdout"
        }
      ]
    }
  ]
}